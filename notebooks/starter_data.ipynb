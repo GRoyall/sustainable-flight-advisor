{
 "cells": [
  {
   "cell_type": "code",
   "execution_count": 95,
   "id": "443bf024-3a4b-437a-ae79-ef061ee5f0d4",
   "metadata": {},
   "outputs": [
    {
     "name": "stdout",
     "output_type": "stream",
     "text": [
      "JFK->LAX: 3974 km, est 329.9 kg CO₂/passenger\n"
     ]
    }
   ],
   "source": [
    "import pandas as pd\n",
    "import math\n",
    "\n",
    "# --- Load directly from OpenFlights ---\n",
    "url = \"https://raw.githubusercontent.com/jpatokal/openflights/master/data/airports.dat\"\n",
    "\n",
    "# Correct 14-column names\n",
    "colnames = [\n",
    "    \"id\",\"name\",\"city\",\"country\",\"iata\",\"icao\",\n",
    "    \"lat\",\"lon\",\"alt\",\"tz\",\"dst\",\"tzdb\",\"type\",\"source\"\n",
    "]\n",
    "\n",
    "airports = pd.read_csv(\n",
    "    url,\n",
    "    header=None,\n",
    "    names=colnames,\n",
    "    quotechar='\"',\n",
    "    skipinitialspace=True\n",
    ")\n",
    "\n",
    "# Clean IATA codes\n",
    "airports['iata'] = airports['iata'].astype(str).str.strip().str.upper()\n",
    "airports = airports[airports['iata'].str.match(r\"^[A-Z]{3}$\")]  # only real 3-letter IATA codes\n",
    "\n",
    "# helper: get lat/lon by IATA\n",
    "def coords_for(iata):\n",
    "    r = airports[airports['iata'] == iata]\n",
    "    if r.empty:\n",
    "        raise ValueError(f\"IATA {iata} not found\")\n",
    "    return float(r.iloc[0]['lat']), float(r.iloc[0]['lon'])\n",
    "\n",
    "# great-circle distance (km)\n",
    "def haversine_km(lat1, lon1, lat2, lon2):\n",
    "    R = 6371.0\n",
    "    phi1 = math.radians(lat1); phi2 = math.radians(lat2)\n",
    "    dphi = math.radians(lat2 - lat1); dlambda = math.radians(lon2 - lon1)\n",
    "    a = math.sin(dphi/2)**2 + math.cos(phi1)*math.cos(phi2)*math.sin(dlambda/2)**2\n",
    "    return R * 2 * math.asin(math.sqrt(a))\n",
    "\n",
    "# emission estimator (simple)\n",
    "DEFAULT_FACTOR_G_PER_PKM = 83.0  # g CO₂ per pax-km\n",
    "def estimate_co2_kg(iata_from, iata_to, factor_g_per_pkm=DEFAULT_FACTOR_G_PER_PKM):\n",
    "    lat1, lon1 = coords_for(iata_from)\n",
    "    lat2, lon2 = coords_for(iata_to)\n",
    "    d = haversine_km(lat1, lon1, lat2, lon2)\n",
    "    grams = d * factor_g_per_pkm\n",
    "    return d, grams / 1000.0\n",
    "\n",
    "# Example use:\n",
    "origin = \"JFK\"\n",
    "dest = \"LAX\"\n",
    "distance_km, co2_kg = estimate_co2_kg(origin, dest)\n",
    "print(f\"{origin}->{dest}: {distance_km:.0f} km, est {co2_kg:.1f} kg CO₂/passenger\")\n"
   ]
  },
  {
   "cell_type": "code",
   "execution_count": 103,
   "id": "22524408-5e31-4665-bf99-eb0ad135fcc6",
   "metadata": {},
   "outputs": [
    {
     "name": "stdout",
     "output_type": "stream",
     "text": [
      "Sample routes:\n",
      "  airline airline_id source_airport source_airport_id dest_airport  \\\n",
      "0      2B        410            AER              2965          KZN   \n",
      "1      2B        410            ASF              2966          KZN   \n",
      "2      2B        410            ASF              2966          MRV   \n",
      "3      2B        410            CEK              2968          KZN   \n",
      "4      2B        410            CEK              2968          OVB   \n",
      "\n",
      "  dest_airport_id codeshare  stops equipment  \n",
      "0            2990       NaN      0       CR2  \n",
      "1            2990       NaN      0       CR2  \n",
      "2            2962       NaN      0       CR2  \n",
      "3            2990       NaN      0       CR2  \n",
      "4            4078       NaN      0       CR2  \n",
      "67663 valid routes loaded\n"
     ]
    }
   ],
   "source": [
    "import pandas as pd\n",
    "\n",
    "# OpenFlights routes.dat URL\n",
    "url_routes = \"https://raw.githubusercontent.com/jpatokal/openflights/master/data/routes.dat\"\n",
    "\n",
    "# Column names for routes.dat\n",
    "route_cols = [\n",
    "    \"airline\",\"airline_id\",\"source_airport\",\"source_airport_id\",\n",
    "    \"dest_airport\",\"dest_airport_id\",\"codeshare\",\"stops\",\"equipment\"\n",
    "]\n",
    "\n",
    "# Read routes directly from OpenFlights\n",
    "routes = pd.read_csv(\n",
    "    url_routes,\n",
    "    header=None,\n",
    "    names=route_cols,\n",
    "    quotechar='\"',\n",
    "    skipinitialspace=True\n",
    ")\n",
    "\n",
    "# Keep only routes with valid 3-letter IATA codes\n",
    "routes = routes[\n",
    "    (routes['source_airport'].str.match(r'^[A-Z]{3}$')) &\n",
    "    (routes['dest_airport'].str.match(r'^[A-Z]{3}$'))\n",
    "].reset_index(drop=True)\n",
    "\n",
    "print(\"Sample routes:\")\n",
    "print(routes.head())\n",
    "print(len(routes), \"valid routes loaded\")\n"
   ]
  },
  {
   "cell_type": "code",
   "execution_count": 105,
   "id": "ffb76d8f-72d4-4fab-8a5a-caae0c95db91",
   "metadata": {},
   "outputs": [
    {
     "name": "stdout",
     "output_type": "stream",
     "text": [
      "Sample routes with coordinates:\n",
      "  airline airline_id source_airport source_airport_id dest_airport  \\\n",
      "0      2B        410            AER              2965          KZN   \n",
      "1      2B        410            ASF              2966          KZN   \n",
      "2      2B        410            ASF              2966          MRV   \n",
      "3      2B        410            CEK              2968          KZN   \n",
      "4      2B        410            CEK              2968          OVB   \n",
      "\n",
      "  dest_airport_id codeshare  stops equipment  source_lat  source_lon  \\\n",
      "0            2990       NaN      0       CR2   43.449902   39.956600   \n",
      "1            2990       NaN      0       CR2   46.283298   48.006302   \n",
      "2            2962       NaN      0       CR2   46.283298   48.006302   \n",
      "3            2990       NaN      0       CR2   55.305801   61.503300   \n",
      "4            4078       NaN      0       CR2   55.305801   61.503300   \n",
      "\n",
      "    dest_lat   dest_lon  \n",
      "0  55.606201  49.278702  \n",
      "1  55.606201  49.278702  \n",
      "2  44.225101  43.081902  \n",
      "3  55.606201  49.278702  \n",
      "4  55.012600  82.650703  \n",
      "66934 routes with lat/lon\n"
     ]
    }
   ],
   "source": [
    "# Merge origin airport lat/lon\n",
    "routes = routes.merge(\n",
    "    airports[['iata', 'lat', 'lon']],\n",
    "    left_on='source_airport',\n",
    "    right_on='iata',\n",
    "    how='left'\n",
    ").rename(columns={'lat': 'source_lat', 'lon': 'source_lon'}).drop(columns='iata')\n",
    "\n",
    "# Merge destination airport lat/lon\n",
    "routes = routes.merge(\n",
    "    airports[['iata', 'lat', 'lon']],\n",
    "    left_on='dest_airport',\n",
    "    right_on='iata',\n",
    "    how='left'\n",
    ").rename(columns={'lat': 'dest_lat', 'lon': 'dest_lon'}).drop(columns='iata')\n",
    "\n",
    "# Drop any routes where lat/lon info is missing\n",
    "routes = routes.dropna(subset=['source_lat', 'source_lon', 'dest_lat', 'dest_lon']).reset_index(drop=True)\n",
    "\n",
    "print(\"Sample routes with coordinates:\")\n",
    "print(routes.head())\n",
    "print(len(routes), \"routes with lat/lon\")\n"
   ]
  },
  {
   "cell_type": "code",
   "execution_count": 107,
   "id": "a3808297-2634-4dd6-92bc-c395fe669115",
   "metadata": {},
   "outputs": [
    {
     "name": "stderr",
     "output_type": "stream",
     "text": [
      "100%|██████████| 66934/66934 [00:01<00:00, 42987.59it/s]"
     ]
    },
    {
     "name": "stdout",
     "output_type": "stream",
     "text": [
      "  source_airport dest_airport  distance_km      co2_kg\n",
      "0            AER          KZN  1506.825604  125.066525\n",
      "1            ASF          KZN  1040.438320   86.356381\n",
      "2            ASF          MRV   448.164909   37.197687\n",
      "3            CEK          KZN   770.508500   63.952206\n",
      "4            CEK          OVB  1338.631467  111.106412\n"
     ]
    },
    {
     "name": "stderr",
     "output_type": "stream",
     "text": [
      "\n"
     ]
    }
   ],
   "source": [
    "import math\n",
    "from tqdm import tqdm  # optional, for progress bar\n",
    "\n",
    "# Haversine distance function (already tested)\n",
    "def haversine_km(lat1, lon1, lat2, lon2):\n",
    "    R = 6371.0\n",
    "    phi1 = math.radians(lat1); phi2 = math.radians(lat2)\n",
    "    dphi = math.radians(lat2 - lat1); dlambda = math.radians(lon2 - lon1)\n",
    "    a = math.sin(dphi/2)**2 + math.cos(phi1)*math.cos(phi2)*math.sin(dlambda/2)**2\n",
    "    return R * 2 * math.asin(math.sqrt(a))\n",
    "\n",
    "DEFAULT_FACTOR_G_PER_PKM = 83.0  # g CO₂ per pax-km\n",
    "\n",
    "# Compute distance and CO₂ for each route\n",
    "distances = []\n",
    "co2s = []\n",
    "\n",
    "for _, row in tqdm(routes.iterrows(), total=len(routes)):\n",
    "    d = haversine_km(row['source_lat'], row['source_lon'], row['dest_lat'], row['dest_lon'])\n",
    "    distances.append(d)\n",
    "    co2s.append(d * DEFAULT_FACTOR_G_PER_PKM / 1000.0)  # kg CO₂\n",
    "\n",
    "routes['distance_km'] = distances\n",
    "routes['co2_kg'] = co2s\n",
    "\n",
    "# Check\n",
    "print(routes[['source_airport', 'dest_airport', 'distance_km', 'co2_kg']].head())\n"
   ]
  },
  {
   "cell_type": "code",
   "execution_count": 109,
   "id": "760e3339-d707-40b6-a998-7bc0c4688e28",
   "metadata": {},
   "outputs": [
    {
     "name": "stdout",
     "output_type": "stream",
     "text": [
      "      airline source_airport dest_airport  distance_km     co2_kg\n",
      "5420       AA            JFK          SFO  4151.786262  344.59826\n",
      "11449      AS            JFK          SFO  4151.786262  344.59826\n",
      "13873      B6            JFK          SFO  4151.786262  344.59826\n",
      "20682      DL            JFK          SFO  4151.786262  344.59826\n",
      "56271      UA            JFK          SFO  4151.786262  344.59826\n",
      "58809      US            JFK          SFO  4151.786262  344.59826\n",
      "61347      VX            JFK          SFO  4151.786262  344.59826\n"
     ]
    }
   ],
   "source": [
    "# Filter routes for JFK -> SFO\n",
    "origin = \"JFK\"\n",
    "destination = \"SFO\"\n",
    "\n",
    "jfk_sfo_routes = routes[\n",
    "    (routes['source_airport'] == origin) &\n",
    "    (routes['dest_airport'] == destination)\n",
    "]\n",
    "\n",
    "# Show relevant columns\n",
    "print(jfk_sfo_routes[['airline', 'source_airport', 'dest_airport', 'distance_km', 'co2_kg']])\n"
   ]
  },
  {
   "cell_type": "code",
   "execution_count": 116,
   "id": "5df114e7-16a3-42c4-9eac-eb9934590dd0",
   "metadata": {},
   "outputs": [
    {
     "name": "stdout",
     "output_type": "stream",
     "text": [
      "Index(['year', 'month', 'carrier', 'carrier_name', 'airport', 'airport_name',\n",
      "       'arr_flights', 'arr_del15', 'carrier_ct', 'weather_ct', 'nas_ct',\n",
      "       'security_ct', 'late_aircraft_ct', 'arr_cancelled', 'arr_diverted',\n",
      "       'arr_delay', 'carrier_delay', 'weather_delay', 'nas_delay',\n",
      "       'security_delay', 'late_aircraft_delay'],\n",
      "      dtype='object')\n"
     ]
    },
    {
     "ename": "KeyError",
     "evalue": "\"None of [Index(['ORIGIN', 'DEST', 'OP_CARRIER', 'CRS_DEP_TIME', 'DAY_OF_WEEK', 'MONTH',\\n       'ARR_DELAY'],\\n      dtype='object')] are in the [columns]\"",
     "output_type": "error",
     "traceback": [
      "\u001b[1;31m---------------------------------------------------------------------------\u001b[0m",
      "\u001b[1;31mKeyError\u001b[0m                                  Traceback (most recent call last)",
      "Cell \u001b[1;32mIn[116], line 13\u001b[0m\n\u001b[0;32m      8\u001b[0m \u001b[38;5;28mprint\u001b[39m(bts_df\u001b[38;5;241m.\u001b[39mcolumns)\n\u001b[0;32m     10\u001b[0m \u001b[38;5;66;03m# --- 3) Select relevant features ---\u001b[39;00m\n\u001b[0;32m     11\u001b[0m \u001b[38;5;66;03m# Adjust these based on the actual CSV column names\u001b[39;00m\n\u001b[0;32m     12\u001b[0m \u001b[38;5;66;03m# Common BTS columns: 'ORIGIN', 'DEST', 'OP_CARRIER', 'CRS_DEP_TIME', 'DAY_OF_WEEK', 'MONTH', 'ARR_DELAY'\u001b[39;00m\n\u001b[1;32m---> 13\u001b[0m bts_df \u001b[38;5;241m=\u001b[39m bts_df[[\u001b[38;5;124m'\u001b[39m\u001b[38;5;124mORIGIN\u001b[39m\u001b[38;5;124m'\u001b[39m,\u001b[38;5;124m'\u001b[39m\u001b[38;5;124mDEST\u001b[39m\u001b[38;5;124m'\u001b[39m,\u001b[38;5;124m'\u001b[39m\u001b[38;5;124mOP_CARRIER\u001b[39m\u001b[38;5;124m'\u001b[39m,\u001b[38;5;124m'\u001b[39m\u001b[38;5;124mCRS_DEP_TIME\u001b[39m\u001b[38;5;124m'\u001b[39m,\u001b[38;5;124m'\u001b[39m\u001b[38;5;124mDAY_OF_WEEK\u001b[39m\u001b[38;5;124m'\u001b[39m,\u001b[38;5;124m'\u001b[39m\u001b[38;5;124mMONTH\u001b[39m\u001b[38;5;124m'\u001b[39m,\u001b[38;5;124m'\u001b[39m\u001b[38;5;124mARR_DELAY\u001b[39m\u001b[38;5;124m'\u001b[39m]]\n\u001b[0;32m     15\u001b[0m \u001b[38;5;66;03m# --- 4) Clean and create label ---\u001b[39;00m\n\u001b[0;32m     16\u001b[0m \u001b[38;5;66;03m# Mark delayed if arrival delay > 15 minutes\u001b[39;00m\n\u001b[0;32m     17\u001b[0m bts_df[\u001b[38;5;124m'\u001b[39m\u001b[38;5;124mdelayed\u001b[39m\u001b[38;5;124m'\u001b[39m] \u001b[38;5;241m=\u001b[39m (bts_df[\u001b[38;5;124m'\u001b[39m\u001b[38;5;124mARR_DELAY\u001b[39m\u001b[38;5;124m'\u001b[39m] \u001b[38;5;241m>\u001b[39m \u001b[38;5;241m15\u001b[39m)\u001b[38;5;241m.\u001b[39mastype(\u001b[38;5;28mint\u001b[39m)\n",
      "File \u001b[1;32m~\\anaconda3\\Lib\\site-packages\\pandas\\core\\frame.py:3899\u001b[0m, in \u001b[0;36mDataFrame.__getitem__\u001b[1;34m(self, key)\u001b[0m\n\u001b[0;32m   3897\u001b[0m     \u001b[38;5;28;01mif\u001b[39;00m is_iterator(key):\n\u001b[0;32m   3898\u001b[0m         key \u001b[38;5;241m=\u001b[39m \u001b[38;5;28mlist\u001b[39m(key)\n\u001b[1;32m-> 3899\u001b[0m     indexer \u001b[38;5;241m=\u001b[39m \u001b[38;5;28mself\u001b[39m\u001b[38;5;241m.\u001b[39mcolumns\u001b[38;5;241m.\u001b[39m_get_indexer_strict(key, \u001b[38;5;124m\"\u001b[39m\u001b[38;5;124mcolumns\u001b[39m\u001b[38;5;124m\"\u001b[39m)[\u001b[38;5;241m1\u001b[39m]\n\u001b[0;32m   3901\u001b[0m \u001b[38;5;66;03m# take() does not accept boolean indexers\u001b[39;00m\n\u001b[0;32m   3902\u001b[0m \u001b[38;5;28;01mif\u001b[39;00m \u001b[38;5;28mgetattr\u001b[39m(indexer, \u001b[38;5;124m\"\u001b[39m\u001b[38;5;124mdtype\u001b[39m\u001b[38;5;124m\"\u001b[39m, \u001b[38;5;28;01mNone\u001b[39;00m) \u001b[38;5;241m==\u001b[39m \u001b[38;5;28mbool\u001b[39m:\n",
      "File \u001b[1;32m~\\anaconda3\\Lib\\site-packages\\pandas\\core\\indexes\\base.py:6115\u001b[0m, in \u001b[0;36mIndex._get_indexer_strict\u001b[1;34m(self, key, axis_name)\u001b[0m\n\u001b[0;32m   6112\u001b[0m \u001b[38;5;28;01melse\u001b[39;00m:\n\u001b[0;32m   6113\u001b[0m     keyarr, indexer, new_indexer \u001b[38;5;241m=\u001b[39m \u001b[38;5;28mself\u001b[39m\u001b[38;5;241m.\u001b[39m_reindex_non_unique(keyarr)\n\u001b[1;32m-> 6115\u001b[0m \u001b[38;5;28mself\u001b[39m\u001b[38;5;241m.\u001b[39m_raise_if_missing(keyarr, indexer, axis_name)\n\u001b[0;32m   6117\u001b[0m keyarr \u001b[38;5;241m=\u001b[39m \u001b[38;5;28mself\u001b[39m\u001b[38;5;241m.\u001b[39mtake(indexer)\n\u001b[0;32m   6118\u001b[0m \u001b[38;5;28;01mif\u001b[39;00m \u001b[38;5;28misinstance\u001b[39m(key, Index):\n\u001b[0;32m   6119\u001b[0m     \u001b[38;5;66;03m# GH 42790 - Preserve name from an Index\u001b[39;00m\n",
      "File \u001b[1;32m~\\anaconda3\\Lib\\site-packages\\pandas\\core\\indexes\\base.py:6176\u001b[0m, in \u001b[0;36mIndex._raise_if_missing\u001b[1;34m(self, key, indexer, axis_name)\u001b[0m\n\u001b[0;32m   6174\u001b[0m     \u001b[38;5;28;01mif\u001b[39;00m use_interval_msg:\n\u001b[0;32m   6175\u001b[0m         key \u001b[38;5;241m=\u001b[39m \u001b[38;5;28mlist\u001b[39m(key)\n\u001b[1;32m-> 6176\u001b[0m     \u001b[38;5;28;01mraise\u001b[39;00m \u001b[38;5;167;01mKeyError\u001b[39;00m(\u001b[38;5;124mf\u001b[39m\u001b[38;5;124m\"\u001b[39m\u001b[38;5;124mNone of [\u001b[39m\u001b[38;5;132;01m{\u001b[39;00mkey\u001b[38;5;132;01m}\u001b[39;00m\u001b[38;5;124m] are in the [\u001b[39m\u001b[38;5;132;01m{\u001b[39;00maxis_name\u001b[38;5;132;01m}\u001b[39;00m\u001b[38;5;124m]\u001b[39m\u001b[38;5;124m\"\u001b[39m)\n\u001b[0;32m   6178\u001b[0m not_found \u001b[38;5;241m=\u001b[39m \u001b[38;5;28mlist\u001b[39m(ensure_index(key)[missing_mask\u001b[38;5;241m.\u001b[39mnonzero()[\u001b[38;5;241m0\u001b[39m]]\u001b[38;5;241m.\u001b[39munique())\n\u001b[0;32m   6179\u001b[0m \u001b[38;5;28;01mraise\u001b[39;00m \u001b[38;5;167;01mKeyError\u001b[39;00m(\u001b[38;5;124mf\u001b[39m\u001b[38;5;124m\"\u001b[39m\u001b[38;5;132;01m{\u001b[39;00mnot_found\u001b[38;5;132;01m}\u001b[39;00m\u001b[38;5;124m not in index\u001b[39m\u001b[38;5;124m\"\u001b[39m)\n",
      "\u001b[1;31mKeyError\u001b[0m: \"None of [Index(['ORIGIN', 'DEST', 'OP_CARRIER', 'CRS_DEP_TIME', 'DAY_OF_WEEK', 'MONTH',\\n       'ARR_DELAY'],\\n      dtype='object')] are in the [columns]\""
     ]
    }
   ],
   "source": [
    "import pandas as pd\n",
    "from sklearn.ensemble import RandomForestClassifier\n",
    "\n",
    "# --- 1) Load BTS data ---\n",
    "bts_df = pd.read_csv(\"airline_delay_cause.csv\")\n",
    "\n",
    "# --- 2) Inspect columns ---\n",
    "print(bts_df.columns)\n",
    "\n",
    "# --- 3) Select relevant features ---\n",
    "# Adjust these based on the actual CSV column names\n",
    "# Common BTS columns: 'ORIGIN', 'DEST', 'OP_CARRIER', 'CRS_DEP_TIME', 'DAY_OF_WEEK', 'MONTH', 'ARR_DELAY'\n",
    "bts_df = bts_df[['ORIGIN','DEST','OP_CARRIER','CRS_DEP_TIME','DAY_OF_WEEK','MONTH','ARR_DELAY']]\n",
    "\n",
    "# --- 4) Clean and create label ---\n",
    "# Mark delayed if arrival delay > 15 minutes\n",
    "bts_df['delayed'] = (bts_df['ARR_DELAY'] > 15).astype(int)\n",
    "\n",
    "# Optional: convert departure time to hour (0-23)\n",
    "bts_df['dep_hour'] = bts_df['CRS_DEP_TIME'] // 100  # e.g., 1730 -> 17\n",
    "\n",
    "# --- 5) Model training (RandomForest) ---\n",
    "features = ['dep_hour','DAY_OF_WEEK','MONTH']  # can extend with one-hot encoding for carrier, origin/dest\n",
    "X = bts_df[features]\n",
    "y = bts_df['delayed']\n",
    "\n",
    "model = RandomForestClassifier(n_estimators=100, random_state=42)\n",
    "model.fit(X, y)\n",
    "\n",
    "# --- 6) Predict delay probability for demo ---\n",
    "bts_df['delay_prob'] = model.predict_proba(X)[:,1]\n",
    "\n",
    "print(\"Sample predictions:\")\n",
    "print(bts_df.head())\n"
   ]
  },
  {
   "cell_type": "code",
   "execution_count": 118,
   "id": "49d761a1-cb47-4c60-b935-ade90a82a4c4",
   "metadata": {},
   "outputs": [
    {
     "ename": "ConnectionError",
     "evalue": "HTTPSConnectionPool(host='api.transtats.bts.gov', port=443): Max retries exceeded with url: /api/1.0/airline_on_time_performance?start_date=2025-01-01&end_date=2025-09-30&carrier=B6&origin=all&dest=all&format=csv (Caused by NameResolutionError(\"<urllib3.connection.HTTPSConnection object at 0x0000019C1A295D50>: Failed to resolve 'api.transtats.bts.gov' ([Errno 11001] getaddrinfo failed)\"))",
     "output_type": "error",
     "traceback": [
      "\u001b[1;31m---------------------------------------------------------------------------\u001b[0m",
      "\u001b[1;31mgaierror\u001b[0m                                  Traceback (most recent call last)",
      "File \u001b[1;32m~\\anaconda3\\Lib\\site-packages\\urllib3\\connection.py:203\u001b[0m, in \u001b[0;36mHTTPConnection._new_conn\u001b[1;34m(self)\u001b[0m\n\u001b[0;32m    202\u001b[0m \u001b[38;5;28;01mtry\u001b[39;00m:\n\u001b[1;32m--> 203\u001b[0m     sock \u001b[38;5;241m=\u001b[39m connection\u001b[38;5;241m.\u001b[39mcreate_connection(\n\u001b[0;32m    204\u001b[0m         (\u001b[38;5;28mself\u001b[39m\u001b[38;5;241m.\u001b[39m_dns_host, \u001b[38;5;28mself\u001b[39m\u001b[38;5;241m.\u001b[39mport),\n\u001b[0;32m    205\u001b[0m         \u001b[38;5;28mself\u001b[39m\u001b[38;5;241m.\u001b[39mtimeout,\n\u001b[0;32m    206\u001b[0m         source_address\u001b[38;5;241m=\u001b[39m\u001b[38;5;28mself\u001b[39m\u001b[38;5;241m.\u001b[39msource_address,\n\u001b[0;32m    207\u001b[0m         socket_options\u001b[38;5;241m=\u001b[39m\u001b[38;5;28mself\u001b[39m\u001b[38;5;241m.\u001b[39msocket_options,\n\u001b[0;32m    208\u001b[0m     )\n\u001b[0;32m    209\u001b[0m \u001b[38;5;28;01mexcept\u001b[39;00m socket\u001b[38;5;241m.\u001b[39mgaierror \u001b[38;5;28;01mas\u001b[39;00m e:\n",
      "File \u001b[1;32m~\\anaconda3\\Lib\\site-packages\\urllib3\\util\\connection.py:60\u001b[0m, in \u001b[0;36mcreate_connection\u001b[1;34m(address, timeout, source_address, socket_options)\u001b[0m\n\u001b[0;32m     58\u001b[0m     \u001b[38;5;28;01mraise\u001b[39;00m LocationParseError(\u001b[38;5;124mf\u001b[39m\u001b[38;5;124m\"\u001b[39m\u001b[38;5;124m'\u001b[39m\u001b[38;5;132;01m{\u001b[39;00mhost\u001b[38;5;132;01m}\u001b[39;00m\u001b[38;5;124m'\u001b[39m\u001b[38;5;124m, label empty or too long\u001b[39m\u001b[38;5;124m\"\u001b[39m) \u001b[38;5;28;01mfrom\u001b[39;00m \u001b[38;5;28;01mNone\u001b[39;00m\n\u001b[1;32m---> 60\u001b[0m \u001b[38;5;28;01mfor\u001b[39;00m res \u001b[38;5;129;01min\u001b[39;00m socket\u001b[38;5;241m.\u001b[39mgetaddrinfo(host, port, family, socket\u001b[38;5;241m.\u001b[39mSOCK_STREAM):\n\u001b[0;32m     61\u001b[0m     af, socktype, proto, canonname, sa \u001b[38;5;241m=\u001b[39m res\n",
      "File \u001b[1;32m~\\anaconda3\\Lib\\socket.py:962\u001b[0m, in \u001b[0;36mgetaddrinfo\u001b[1;34m(host, port, family, type, proto, flags)\u001b[0m\n\u001b[0;32m    961\u001b[0m addrlist \u001b[38;5;241m=\u001b[39m []\n\u001b[1;32m--> 962\u001b[0m \u001b[38;5;28;01mfor\u001b[39;00m res \u001b[38;5;129;01min\u001b[39;00m _socket\u001b[38;5;241m.\u001b[39mgetaddrinfo(host, port, family, \u001b[38;5;28mtype\u001b[39m, proto, flags):\n\u001b[0;32m    963\u001b[0m     af, socktype, proto, canonname, sa \u001b[38;5;241m=\u001b[39m res\n",
      "\u001b[1;31mgaierror\u001b[0m: [Errno 11001] getaddrinfo failed",
      "\nThe above exception was the direct cause of the following exception:\n",
      "\u001b[1;31mNameResolutionError\u001b[0m                       Traceback (most recent call last)",
      "File \u001b[1;32m~\\anaconda3\\Lib\\site-packages\\urllib3\\connectionpool.py:791\u001b[0m, in \u001b[0;36mHTTPConnectionPool.urlopen\u001b[1;34m(self, method, url, body, headers, retries, redirect, assert_same_host, timeout, pool_timeout, release_conn, chunked, body_pos, preload_content, decode_content, **response_kw)\u001b[0m\n\u001b[0;32m    790\u001b[0m \u001b[38;5;66;03m# Make the request on the HTTPConnection object\u001b[39;00m\n\u001b[1;32m--> 791\u001b[0m response \u001b[38;5;241m=\u001b[39m \u001b[38;5;28mself\u001b[39m\u001b[38;5;241m.\u001b[39m_make_request(\n\u001b[0;32m    792\u001b[0m     conn,\n\u001b[0;32m    793\u001b[0m     method,\n\u001b[0;32m    794\u001b[0m     url,\n\u001b[0;32m    795\u001b[0m     timeout\u001b[38;5;241m=\u001b[39mtimeout_obj,\n\u001b[0;32m    796\u001b[0m     body\u001b[38;5;241m=\u001b[39mbody,\n\u001b[0;32m    797\u001b[0m     headers\u001b[38;5;241m=\u001b[39mheaders,\n\u001b[0;32m    798\u001b[0m     chunked\u001b[38;5;241m=\u001b[39mchunked,\n\u001b[0;32m    799\u001b[0m     retries\u001b[38;5;241m=\u001b[39mretries,\n\u001b[0;32m    800\u001b[0m     response_conn\u001b[38;5;241m=\u001b[39mresponse_conn,\n\u001b[0;32m    801\u001b[0m     preload_content\u001b[38;5;241m=\u001b[39mpreload_content,\n\u001b[0;32m    802\u001b[0m     decode_content\u001b[38;5;241m=\u001b[39mdecode_content,\n\u001b[0;32m    803\u001b[0m     \u001b[38;5;241m*\u001b[39m\u001b[38;5;241m*\u001b[39mresponse_kw,\n\u001b[0;32m    804\u001b[0m )\n\u001b[0;32m    806\u001b[0m \u001b[38;5;66;03m# Everything went great!\u001b[39;00m\n",
      "File \u001b[1;32m~\\anaconda3\\Lib\\site-packages\\urllib3\\connectionpool.py:492\u001b[0m, in \u001b[0;36mHTTPConnectionPool._make_request\u001b[1;34m(self, conn, method, url, body, headers, retries, timeout, chunked, response_conn, preload_content, decode_content, enforce_content_length)\u001b[0m\n\u001b[0;32m    491\u001b[0m         new_e \u001b[38;5;241m=\u001b[39m _wrap_proxy_error(new_e, conn\u001b[38;5;241m.\u001b[39mproxy\u001b[38;5;241m.\u001b[39mscheme)\n\u001b[1;32m--> 492\u001b[0m     \u001b[38;5;28;01mraise\u001b[39;00m new_e\n\u001b[0;32m    494\u001b[0m \u001b[38;5;66;03m# conn.request() calls http.client.*.request, not the method in\u001b[39;00m\n\u001b[0;32m    495\u001b[0m \u001b[38;5;66;03m# urllib3.request. It also calls makefile (recv) on the socket.\u001b[39;00m\n",
      "File \u001b[1;32m~\\anaconda3\\Lib\\site-packages\\urllib3\\connectionpool.py:468\u001b[0m, in \u001b[0;36mHTTPConnectionPool._make_request\u001b[1;34m(self, conn, method, url, body, headers, retries, timeout, chunked, response_conn, preload_content, decode_content, enforce_content_length)\u001b[0m\n\u001b[0;32m    467\u001b[0m \u001b[38;5;28;01mtry\u001b[39;00m:\n\u001b[1;32m--> 468\u001b[0m     \u001b[38;5;28mself\u001b[39m\u001b[38;5;241m.\u001b[39m_validate_conn(conn)\n\u001b[0;32m    469\u001b[0m \u001b[38;5;28;01mexcept\u001b[39;00m (SocketTimeout, BaseSSLError) \u001b[38;5;28;01mas\u001b[39;00m e:\n",
      "File \u001b[1;32m~\\anaconda3\\Lib\\site-packages\\urllib3\\connectionpool.py:1097\u001b[0m, in \u001b[0;36mHTTPSConnectionPool._validate_conn\u001b[1;34m(self, conn)\u001b[0m\n\u001b[0;32m   1096\u001b[0m \u001b[38;5;28;01mif\u001b[39;00m conn\u001b[38;5;241m.\u001b[39mis_closed:\n\u001b[1;32m-> 1097\u001b[0m     conn\u001b[38;5;241m.\u001b[39mconnect()\n\u001b[0;32m   1099\u001b[0m \u001b[38;5;28;01mif\u001b[39;00m \u001b[38;5;129;01mnot\u001b[39;00m conn\u001b[38;5;241m.\u001b[39mis_verified:\n",
      "File \u001b[1;32m~\\anaconda3\\Lib\\site-packages\\urllib3\\connection.py:611\u001b[0m, in \u001b[0;36mHTTPSConnection.connect\u001b[1;34m(self)\u001b[0m\n\u001b[0;32m    610\u001b[0m sock: socket\u001b[38;5;241m.\u001b[39msocket \u001b[38;5;241m|\u001b[39m ssl\u001b[38;5;241m.\u001b[39mSSLSocket\n\u001b[1;32m--> 611\u001b[0m \u001b[38;5;28mself\u001b[39m\u001b[38;5;241m.\u001b[39msock \u001b[38;5;241m=\u001b[39m sock \u001b[38;5;241m=\u001b[39m \u001b[38;5;28mself\u001b[39m\u001b[38;5;241m.\u001b[39m_new_conn()\n\u001b[0;32m    612\u001b[0m server_hostname: \u001b[38;5;28mstr\u001b[39m \u001b[38;5;241m=\u001b[39m \u001b[38;5;28mself\u001b[39m\u001b[38;5;241m.\u001b[39mhost\n",
      "File \u001b[1;32m~\\anaconda3\\Lib\\site-packages\\urllib3\\connection.py:210\u001b[0m, in \u001b[0;36mHTTPConnection._new_conn\u001b[1;34m(self)\u001b[0m\n\u001b[0;32m    209\u001b[0m \u001b[38;5;28;01mexcept\u001b[39;00m socket\u001b[38;5;241m.\u001b[39mgaierror \u001b[38;5;28;01mas\u001b[39;00m e:\n\u001b[1;32m--> 210\u001b[0m     \u001b[38;5;28;01mraise\u001b[39;00m NameResolutionError(\u001b[38;5;28mself\u001b[39m\u001b[38;5;241m.\u001b[39mhost, \u001b[38;5;28mself\u001b[39m, e) \u001b[38;5;28;01mfrom\u001b[39;00m \u001b[38;5;21;01me\u001b[39;00m\n\u001b[0;32m    211\u001b[0m \u001b[38;5;28;01mexcept\u001b[39;00m SocketTimeout \u001b[38;5;28;01mas\u001b[39;00m e:\n",
      "\u001b[1;31mNameResolutionError\u001b[0m: <urllib3.connection.HTTPSConnection object at 0x0000019C1A295D50>: Failed to resolve 'api.transtats.bts.gov' ([Errno 11001] getaddrinfo failed)",
      "\nThe above exception was the direct cause of the following exception:\n",
      "\u001b[1;31mMaxRetryError\u001b[0m                             Traceback (most recent call last)",
      "File \u001b[1;32m~\\anaconda3\\Lib\\site-packages\\requests\\adapters.py:486\u001b[0m, in \u001b[0;36mHTTPAdapter.send\u001b[1;34m(self, request, stream, timeout, verify, cert, proxies)\u001b[0m\n\u001b[0;32m    485\u001b[0m \u001b[38;5;28;01mtry\u001b[39;00m:\n\u001b[1;32m--> 486\u001b[0m     resp \u001b[38;5;241m=\u001b[39m conn\u001b[38;5;241m.\u001b[39murlopen(\n\u001b[0;32m    487\u001b[0m         method\u001b[38;5;241m=\u001b[39mrequest\u001b[38;5;241m.\u001b[39mmethod,\n\u001b[0;32m    488\u001b[0m         url\u001b[38;5;241m=\u001b[39murl,\n\u001b[0;32m    489\u001b[0m         body\u001b[38;5;241m=\u001b[39mrequest\u001b[38;5;241m.\u001b[39mbody,\n\u001b[0;32m    490\u001b[0m         headers\u001b[38;5;241m=\u001b[39mrequest\u001b[38;5;241m.\u001b[39mheaders,\n\u001b[0;32m    491\u001b[0m         redirect\u001b[38;5;241m=\u001b[39m\u001b[38;5;28;01mFalse\u001b[39;00m,\n\u001b[0;32m    492\u001b[0m         assert_same_host\u001b[38;5;241m=\u001b[39m\u001b[38;5;28;01mFalse\u001b[39;00m,\n\u001b[0;32m    493\u001b[0m         preload_content\u001b[38;5;241m=\u001b[39m\u001b[38;5;28;01mFalse\u001b[39;00m,\n\u001b[0;32m    494\u001b[0m         decode_content\u001b[38;5;241m=\u001b[39m\u001b[38;5;28;01mFalse\u001b[39;00m,\n\u001b[0;32m    495\u001b[0m         retries\u001b[38;5;241m=\u001b[39m\u001b[38;5;28mself\u001b[39m\u001b[38;5;241m.\u001b[39mmax_retries,\n\u001b[0;32m    496\u001b[0m         timeout\u001b[38;5;241m=\u001b[39mtimeout,\n\u001b[0;32m    497\u001b[0m         chunked\u001b[38;5;241m=\u001b[39mchunked,\n\u001b[0;32m    498\u001b[0m     )\n\u001b[0;32m    500\u001b[0m \u001b[38;5;28;01mexcept\u001b[39;00m (ProtocolError, \u001b[38;5;167;01mOSError\u001b[39;00m) \u001b[38;5;28;01mas\u001b[39;00m err:\n",
      "File \u001b[1;32m~\\anaconda3\\Lib\\site-packages\\urllib3\\connectionpool.py:845\u001b[0m, in \u001b[0;36mHTTPConnectionPool.urlopen\u001b[1;34m(self, method, url, body, headers, retries, redirect, assert_same_host, timeout, pool_timeout, release_conn, chunked, body_pos, preload_content, decode_content, **response_kw)\u001b[0m\n\u001b[0;32m    843\u001b[0m     new_e \u001b[38;5;241m=\u001b[39m ProtocolError(\u001b[38;5;124m\"\u001b[39m\u001b[38;5;124mConnection aborted.\u001b[39m\u001b[38;5;124m\"\u001b[39m, new_e)\n\u001b[1;32m--> 845\u001b[0m retries \u001b[38;5;241m=\u001b[39m retries\u001b[38;5;241m.\u001b[39mincrement(\n\u001b[0;32m    846\u001b[0m     method, url, error\u001b[38;5;241m=\u001b[39mnew_e, _pool\u001b[38;5;241m=\u001b[39m\u001b[38;5;28mself\u001b[39m, _stacktrace\u001b[38;5;241m=\u001b[39msys\u001b[38;5;241m.\u001b[39mexc_info()[\u001b[38;5;241m2\u001b[39m]\n\u001b[0;32m    847\u001b[0m )\n\u001b[0;32m    848\u001b[0m retries\u001b[38;5;241m.\u001b[39msleep()\n",
      "File \u001b[1;32m~\\anaconda3\\Lib\\site-packages\\urllib3\\util\\retry.py:515\u001b[0m, in \u001b[0;36mRetry.increment\u001b[1;34m(self, method, url, response, error, _pool, _stacktrace)\u001b[0m\n\u001b[0;32m    514\u001b[0m     reason \u001b[38;5;241m=\u001b[39m error \u001b[38;5;129;01mor\u001b[39;00m ResponseError(cause)\n\u001b[1;32m--> 515\u001b[0m     \u001b[38;5;28;01mraise\u001b[39;00m MaxRetryError(_pool, url, reason) \u001b[38;5;28;01mfrom\u001b[39;00m \u001b[38;5;21;01mreason\u001b[39;00m  \u001b[38;5;66;03m# type: ignore[arg-type]\u001b[39;00m\n\u001b[0;32m    517\u001b[0m log\u001b[38;5;241m.\u001b[39mdebug(\u001b[38;5;124m\"\u001b[39m\u001b[38;5;124mIncremented Retry for (url=\u001b[39m\u001b[38;5;124m'\u001b[39m\u001b[38;5;132;01m%s\u001b[39;00m\u001b[38;5;124m'\u001b[39m\u001b[38;5;124m): \u001b[39m\u001b[38;5;132;01m%r\u001b[39;00m\u001b[38;5;124m\"\u001b[39m, url, new_retry)\n",
      "\u001b[1;31mMaxRetryError\u001b[0m: HTTPSConnectionPool(host='api.transtats.bts.gov', port=443): Max retries exceeded with url: /api/1.0/airline_on_time_performance?start_date=2025-01-01&end_date=2025-09-30&carrier=B6&origin=all&dest=all&format=csv (Caused by NameResolutionError(\"<urllib3.connection.HTTPSConnection object at 0x0000019C1A295D50>: Failed to resolve 'api.transtats.bts.gov' ([Errno 11001] getaddrinfo failed)\"))",
      "\nDuring handling of the above exception, another exception occurred:\n",
      "\u001b[1;31mConnectionError\u001b[0m                           Traceback (most recent call last)",
      "Cell \u001b[1;32mIn[118], line 18\u001b[0m\n\u001b[0;32m      8\u001b[0m params \u001b[38;5;241m=\u001b[39m {\n\u001b[0;32m      9\u001b[0m     \u001b[38;5;124m\"\u001b[39m\u001b[38;5;124mstart_date\u001b[39m\u001b[38;5;124m\"\u001b[39m: \u001b[38;5;124m\"\u001b[39m\u001b[38;5;124m2025-01-01\u001b[39m\u001b[38;5;124m\"\u001b[39m,\n\u001b[0;32m     10\u001b[0m     \u001b[38;5;124m\"\u001b[39m\u001b[38;5;124mend_date\u001b[39m\u001b[38;5;124m\"\u001b[39m: \u001b[38;5;124m\"\u001b[39m\u001b[38;5;124m2025-09-30\u001b[39m\u001b[38;5;124m\"\u001b[39m,\n\u001b[1;32m   (...)\u001b[0m\n\u001b[0;32m     14\u001b[0m     \u001b[38;5;124m\"\u001b[39m\u001b[38;5;124mformat\u001b[39m\u001b[38;5;124m\"\u001b[39m: \u001b[38;5;124m\"\u001b[39m\u001b[38;5;124mcsv\u001b[39m\u001b[38;5;124m\"\u001b[39m             \u001b[38;5;66;03m# BTS can return CSV\u001b[39;00m\n\u001b[0;32m     15\u001b[0m }\n\u001b[0;32m     17\u001b[0m \u001b[38;5;66;03m# Make API request\u001b[39;00m\n\u001b[1;32m---> 18\u001b[0m response \u001b[38;5;241m=\u001b[39m requests\u001b[38;5;241m.\u001b[39mget(url, params\u001b[38;5;241m=\u001b[39mparams)\n\u001b[0;32m     19\u001b[0m \u001b[38;5;28;01mif\u001b[39;00m response\u001b[38;5;241m.\u001b[39mstatus_code \u001b[38;5;241m==\u001b[39m \u001b[38;5;241m200\u001b[39m:\n\u001b[0;32m     20\u001b[0m     \u001b[38;5;28;01mwith\u001b[39;00m \u001b[38;5;28mopen\u001b[39m(\u001b[38;5;124m\"\u001b[39m\u001b[38;5;124mbts_data.csv\u001b[39m\u001b[38;5;124m\"\u001b[39m, \u001b[38;5;124m\"\u001b[39m\u001b[38;5;124mwb\u001b[39m\u001b[38;5;124m\"\u001b[39m) \u001b[38;5;28;01mas\u001b[39;00m f:\n",
      "File \u001b[1;32m~\\anaconda3\\Lib\\site-packages\\requests\\api.py:73\u001b[0m, in \u001b[0;36mget\u001b[1;34m(url, params, **kwargs)\u001b[0m\n\u001b[0;32m     62\u001b[0m \u001b[38;5;28;01mdef\u001b[39;00m \u001b[38;5;21mget\u001b[39m(url, params\u001b[38;5;241m=\u001b[39m\u001b[38;5;28;01mNone\u001b[39;00m, \u001b[38;5;241m*\u001b[39m\u001b[38;5;241m*\u001b[39mkwargs):\n\u001b[0;32m     63\u001b[0m \u001b[38;5;250m    \u001b[39m\u001b[38;5;124mr\u001b[39m\u001b[38;5;124;03m\"\"\"Sends a GET request.\u001b[39;00m\n\u001b[0;32m     64\u001b[0m \n\u001b[0;32m     65\u001b[0m \u001b[38;5;124;03m    :param url: URL for the new :class:`Request` object.\u001b[39;00m\n\u001b[1;32m   (...)\u001b[0m\n\u001b[0;32m     70\u001b[0m \u001b[38;5;124;03m    :rtype: requests.Response\u001b[39;00m\n\u001b[0;32m     71\u001b[0m \u001b[38;5;124;03m    \"\"\"\u001b[39;00m\n\u001b[1;32m---> 73\u001b[0m     \u001b[38;5;28;01mreturn\u001b[39;00m request(\u001b[38;5;124m\"\u001b[39m\u001b[38;5;124mget\u001b[39m\u001b[38;5;124m\"\u001b[39m, url, params\u001b[38;5;241m=\u001b[39mparams, \u001b[38;5;241m*\u001b[39m\u001b[38;5;241m*\u001b[39mkwargs)\n",
      "File \u001b[1;32m~\\anaconda3\\Lib\\site-packages\\requests\\api.py:59\u001b[0m, in \u001b[0;36mrequest\u001b[1;34m(method, url, **kwargs)\u001b[0m\n\u001b[0;32m     55\u001b[0m \u001b[38;5;66;03m# By using the 'with' statement we are sure the session is closed, thus we\u001b[39;00m\n\u001b[0;32m     56\u001b[0m \u001b[38;5;66;03m# avoid leaving sockets open which can trigger a ResourceWarning in some\u001b[39;00m\n\u001b[0;32m     57\u001b[0m \u001b[38;5;66;03m# cases, and look like a memory leak in others.\u001b[39;00m\n\u001b[0;32m     58\u001b[0m \u001b[38;5;28;01mwith\u001b[39;00m sessions\u001b[38;5;241m.\u001b[39mSession() \u001b[38;5;28;01mas\u001b[39;00m session:\n\u001b[1;32m---> 59\u001b[0m     \u001b[38;5;28;01mreturn\u001b[39;00m session\u001b[38;5;241m.\u001b[39mrequest(method\u001b[38;5;241m=\u001b[39mmethod, url\u001b[38;5;241m=\u001b[39murl, \u001b[38;5;241m*\u001b[39m\u001b[38;5;241m*\u001b[39mkwargs)\n",
      "File \u001b[1;32m~\\anaconda3\\Lib\\site-packages\\requests\\sessions.py:589\u001b[0m, in \u001b[0;36mSession.request\u001b[1;34m(self, method, url, params, data, headers, cookies, files, auth, timeout, allow_redirects, proxies, hooks, stream, verify, cert, json)\u001b[0m\n\u001b[0;32m    584\u001b[0m send_kwargs \u001b[38;5;241m=\u001b[39m {\n\u001b[0;32m    585\u001b[0m     \u001b[38;5;124m\"\u001b[39m\u001b[38;5;124mtimeout\u001b[39m\u001b[38;5;124m\"\u001b[39m: timeout,\n\u001b[0;32m    586\u001b[0m     \u001b[38;5;124m\"\u001b[39m\u001b[38;5;124mallow_redirects\u001b[39m\u001b[38;5;124m\"\u001b[39m: allow_redirects,\n\u001b[0;32m    587\u001b[0m }\n\u001b[0;32m    588\u001b[0m send_kwargs\u001b[38;5;241m.\u001b[39mupdate(settings)\n\u001b[1;32m--> 589\u001b[0m resp \u001b[38;5;241m=\u001b[39m \u001b[38;5;28mself\u001b[39m\u001b[38;5;241m.\u001b[39msend(prep, \u001b[38;5;241m*\u001b[39m\u001b[38;5;241m*\u001b[39msend_kwargs)\n\u001b[0;32m    591\u001b[0m \u001b[38;5;28;01mreturn\u001b[39;00m resp\n",
      "File \u001b[1;32m~\\anaconda3\\Lib\\site-packages\\requests\\sessions.py:703\u001b[0m, in \u001b[0;36mSession.send\u001b[1;34m(self, request, **kwargs)\u001b[0m\n\u001b[0;32m    700\u001b[0m start \u001b[38;5;241m=\u001b[39m preferred_clock()\n\u001b[0;32m    702\u001b[0m \u001b[38;5;66;03m# Send the request\u001b[39;00m\n\u001b[1;32m--> 703\u001b[0m r \u001b[38;5;241m=\u001b[39m adapter\u001b[38;5;241m.\u001b[39msend(request, \u001b[38;5;241m*\u001b[39m\u001b[38;5;241m*\u001b[39mkwargs)\n\u001b[0;32m    705\u001b[0m \u001b[38;5;66;03m# Total elapsed time of the request (approximately)\u001b[39;00m\n\u001b[0;32m    706\u001b[0m elapsed \u001b[38;5;241m=\u001b[39m preferred_clock() \u001b[38;5;241m-\u001b[39m start\n",
      "File \u001b[1;32m~\\anaconda3\\Lib\\site-packages\\requests\\adapters.py:519\u001b[0m, in \u001b[0;36mHTTPAdapter.send\u001b[1;34m(self, request, stream, timeout, verify, cert, proxies)\u001b[0m\n\u001b[0;32m    515\u001b[0m     \u001b[38;5;28;01mif\u001b[39;00m \u001b[38;5;28misinstance\u001b[39m(e\u001b[38;5;241m.\u001b[39mreason, _SSLError):\n\u001b[0;32m    516\u001b[0m         \u001b[38;5;66;03m# This branch is for urllib3 v1.22 and later.\u001b[39;00m\n\u001b[0;32m    517\u001b[0m         \u001b[38;5;28;01mraise\u001b[39;00m SSLError(e, request\u001b[38;5;241m=\u001b[39mrequest)\n\u001b[1;32m--> 519\u001b[0m     \u001b[38;5;28;01mraise\u001b[39;00m \u001b[38;5;167;01mConnectionError\u001b[39;00m(e, request\u001b[38;5;241m=\u001b[39mrequest)\n\u001b[0;32m    521\u001b[0m \u001b[38;5;28;01mexcept\u001b[39;00m ClosedPoolError \u001b[38;5;28;01mas\u001b[39;00m e:\n\u001b[0;32m    522\u001b[0m     \u001b[38;5;28;01mraise\u001b[39;00m \u001b[38;5;167;01mConnectionError\u001b[39;00m(e, request\u001b[38;5;241m=\u001b[39mrequest)\n",
      "\u001b[1;31mConnectionError\u001b[0m: HTTPSConnectionPool(host='api.transtats.bts.gov', port=443): Max retries exceeded with url: /api/1.0/airline_on_time_performance?start_date=2025-01-01&end_date=2025-09-30&carrier=B6&origin=all&dest=all&format=csv (Caused by NameResolutionError(\"<urllib3.connection.HTTPSConnection object at 0x0000019C1A295D50>: Failed to resolve 'api.transtats.bts.gov' ([Errno 11001] getaddrinfo failed)\"))"
     ]
    }
   ],
   "source": [
    "import requests\n",
    "import pandas as pd\n",
    "\n",
    "# Example BTS API endpoint for On-Time Performance\n",
    "url = \"https://api.transtats.bts.gov/api/1.0/airline_on_time_performance\"\n",
    "\n",
    "# API parameters\n",
    "params = {\n",
    "    \"start_date\": \"2025-01-01\",\n",
    "    \"end_date\": \"2025-09-30\",\n",
    "    \"carrier\": \"B6\",           # can be a single carrier code or \"all\"\n",
    "    \"origin\": \"all\",\n",
    "    \"dest\": \"all\",\n",
    "    \"format\": \"csv\"             # BTS can return CSV\n",
    "}\n",
    "\n",
    "# Make API request\n",
    "response = requests.get(url, params=params)\n",
    "if response.status_code == 200:\n",
    "    with open(\"bts_data.csv\", \"wb\") as f:\n",
    "        f.write(response.content)\n",
    "    print(\"BTS data downloaded to bts_data.csv\")\n",
    "else:\n",
    "    print(\"Error:\", response.status_code, response.text)\n",
    "\n",
    "# Load into pandas\n",
    "bts_df = pd.read_csv(\"bts_data.csv\")\n",
    "print(bts_df.head())\n"
   ]
  },
  {
   "cell_type": "code",
   "execution_count": 136,
   "id": "e7fa0107-6daf-4c8c-8464-661d7acbcb2c",
   "metadata": {},
   "outputs": [
    {
     "name": "stdout",
     "output_type": "stream",
     "text": [
      "['CR2' 'A81' 'AN4' ... '737 777 320' '330 747 777 737' 'BE1 BEH']\n"
     ]
    }
   ],
   "source": [
    "# Keep only relevant columns for inspection\n",
    "routes_inspect = routes[['equipment']].copy()\n",
    "\n",
    "# # Split multiple aircraft codes into lists (if needed)\n",
    "# routes_inspect['equipment_list'] = routes_inspect['equipment'].str.split()\n",
    "\n",
    "# Optional: show first 50 rows for inspection\n",
    "print(routes_inspect.head(50))\n",
    "\n",
    "# # Or just show unique equipment combinations as a dataframe\n",
    "# unique_eq_df = routes_inspect[['equipment']].drop_duplicates().reset_index(drop=True)\n",
    "# print(unique_eq_df)\n"
   ]
  }
 ],
 "metadata": {
  "kernelspec": {
   "display_name": "Python 3 (ipykernel)",
   "language": "python",
   "name": "python3"
  },
  "language_info": {
   "codemirror_mode": {
    "name": "ipython",
    "version": 3
   },
   "file_extension": ".py",
   "mimetype": "text/x-python",
   "name": "python",
   "nbconvert_exporter": "python",
   "pygments_lexer": "ipython3",
   "version": "3.11.7"
  }
 },
 "nbformat": 4,
 "nbformat_minor": 5
}
