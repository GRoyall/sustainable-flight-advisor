{
 "cells": [
  {
   "cell_type": "code",
   "execution_count": null,
   "id": "443bf024-3a4b-437a-ae79-ef061ee5f0d4",
   "metadata": {},
   "outputs": [],
   "source": [
    "# Minimal starter: compute route distance and estimate CO2\n",
    "import pandas as pd\n",
    "import math\n",
    "import io\n",
    "import requests\n",
    "\n",
    "# --- 1) load OpenFlights airports (CSV from openflights.org) ---\n",
    "# manual download link on https://openflights.org/data  (or host locally)\n",
    "# Example: if you saved 'airports.dat' as CSV with headers: id,name,city,country,iata,icao,lat,lon,...\n",
    "airports = pd.read_csv(\"airports.dat\", header=None, \n",
    "                       names=[\"id\",\"name\",\"city\",\"country\",\"iata\",\"icao\",\"lat\",\"lon\",\"alt\",\"tz\",\"dst\",\"tzdb\"])\n",
    "airports = airports[~airports['iata'].isna()]  # keep rows with IATA\n",
    "\n",
    "# helper: get lat/lon by IATA\n",
    "def coords_for(iata):\n",
    "    r = airports[airports['iata']==iata]\n",
    "    if r.empty:\n",
    "        raise ValueError(f\"IATA {iata} not found\")\n",
    "    return float(r.iloc[0]['lat']), float(r.iloc[0]['lon'])\n",
    "\n",
    "# great-circle distance (km)\n",
    "def haversine_km(lat1, lon1, lat2, lon2):\n",
    "    R = 6371.0\n",
    "    phi1 = math.radians(lat1); phi2 = math.radians(lat2)\n",
    "    dphi = math.radians(lat2 - lat1); dlambda = math.radians(lon2 - lon1)\n",
    "    a = math.sin(dphi/2)**2 + math.cos(phi1)*math.cos(phi2)*math.sin(dlambda/2)**2\n",
    "    return R * 2 * math.asin(math.sqrt(a))\n",
    "\n",
    "# emission estimator (simple): distance_km * factor_g_per_pkm -> kg CO2\n",
    "# Choose factor based on your research (examples: 80-100 gCO2/pkm). We recommend using EASA/ICCT/ICAO sources.\n",
    "DEFAULT_FACTOR_G_PER_PKM = 83.0   # example starting point (g CO2 per pax-km)\n",
    "def estimate_co2_kg(iata_from, iata_to, factor_g_per_pkm=DEFAULT_FACTOR_G_PER_PKM):\n",
    "    lat1, lon1 = coords_for(iata_from); lat2, lon2 = coords_for(iata_to)\n",
    "    d = haversine_km(lat1, lon1, lat2, lon2)\n",
    "    grams = d * factor_g_per_pkm\n",
    "    return d, grams/1000.0\n",
    "\n",
    "# Example use:\n",
    "origin = \"JFK\"\n",
    "dest = \"LAX\"\n",
    "distance_km, co2_kg = estimate_co2_kg(origin, dest)\n",
    "print(f\"{origin}->{dest}: {distance_km:.0f} km, est {co2_kg:.1f} kg CO2 per passenger (factor {DEFAULT_FACTOR_G_PER_PKM} g/pkm)\")\n"
   ]
  }
 ],
 "metadata": {
  "kernelspec": {
   "display_name": "Python 3 (ipykernel)",
   "language": "python",
   "name": "python3"
  },
  "language_info": {
   "codemirror_mode": {
    "name": "ipython",
    "version": 3
   },
   "file_extension": ".py",
   "mimetype": "text/x-python",
   "name": "python",
   "nbconvert_exporter": "python",
   "pygments_lexer": "ipython3",
   "version": "3.11.7"
  }
 },
 "nbformat": 4,
 "nbformat_minor": 5
}
